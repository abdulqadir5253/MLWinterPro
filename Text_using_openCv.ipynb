{
 "cells": [
  {
   "cell_type": "code",
   "execution_count": 1,
   "metadata": {},
   "outputs": [],
   "source": [
    "import cv2\n",
    "import numpy as np"
   ]
  },
  {
   "cell_type": "code",
   "execution_count": 2,
   "metadata": {},
   "outputs": [
    {
     "data": {
      "text/plain": [
       "True"
      ]
     },
     "execution_count": 2,
     "metadata": {},
     "output_type": "execute_result"
    }
   ],
   "source": [
    "# making a black image\n",
    "img = np.zeros((1024,1024,3))\n",
    "\n",
    "# draw a line\n",
    "#cv2.line(img, (30, 30), (50, 50), (50, 20, 100), 4)\n",
    "#cv2.line(img, (100, 30), (80, 50), (50, 20, 100), 4)\n",
    "\n",
    "font = cv2.FONT_HERSHEY_SIMPLEX\n",
    "\n",
    "cv2.putText(img, 'You Can\\'t See me'  , (150, 200), font, 2, (255, 255, 255), 4, cv2.LINE_AA)\n",
    "cv2.putText(img, 'But I Can See You', (300, 300), font, 2, (255, 255, 255), 4, cv2.LINE_AA)\n",
    "cv2.imwrite('new_img.jpg', img)\n",
    "\n",
    "\n",
    "            \n",
    "#cv2.imshow('new_img', img)"
   ]
  },
  {
   "cell_type": "code",
   "execution_count": null,
   "metadata": {},
   "outputs": [],
   "source": []
  }
 ],
 "metadata": {
  "kernelspec": {
   "display_name": "Python 3",
   "language": "python",
   "name": "python3"
  },
  "language_info": {
   "codemirror_mode": {
    "name": "ipython",
    "version": 3
   },
   "file_extension": ".py",
   "mimetype": "text/x-python",
   "name": "python",
   "nbconvert_exporter": "python",
   "pygments_lexer": "ipython3",
   "version": "3.6.7"
  }
 },
 "nbformat": 4,
 "nbformat_minor": 2
}
